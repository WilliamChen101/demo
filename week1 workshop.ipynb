{
 "cells": [
  {
   "cell_type": "code",
   "execution_count": 15,
   "id": "897c388d-7dfe-4f72-8c08-161bf5564610",
   "metadata": {},
   "outputs": [
    {
     "name": "stdout",
     "output_type": "stream",
     "text": [
      "Help on built-in function print in module builtins:\n",
      "\n",
      "print(*args, sep=' ', end='\\n', file=None, flush=False)\n",
      "    Prints the values to a stream, or to sys.stdout by default.\n",
      "\n",
      "    sep\n",
      "      string inserted between values, default a space.\n",
      "    end\n",
      "      string appended after the last value, default a newline.\n",
      "    file\n",
      "      a file-like object (stream); defaults to the current sys.stdout.\n",
      "    flush\n",
      "      whether to forcibly flush the stream.\n",
      "\n"
     ]
    }
   ],
   "source": [
    "help (print)"
   ]
  },
  {
   "cell_type": "code",
   "execution_count": 2,
   "id": "a1761a0b-6e13-42e6-8b7d-5d8d760ae2bf",
   "metadata": {},
   "outputs": [
    {
     "name": "stdout",
     "output_type": "stream",
     "text": [
      "1 October,2000 \n"
     ]
    }
   ],
   "source": [
    "birth_date = \"1 October,2000 \"\n",
    "print(birth_date)"
   ]
  },
  {
   "cell_type": "code",
   "execution_count": 17,
   "id": "e61464c8-b7ea-4790-9c89-13ceae439db8",
   "metadata": {},
   "outputs": [
    {
     "name": "stdout",
     "output_type": "stream",
     "text": [
      "Hello!\\how are you?\\I love programming\n"
     ]
    }
   ],
   "source": [
    "print(\"Hello!\", \"how are you?\", \"I love programming\", sep=\"\\\\\")"
   ]
  },
  {
   "cell_type": "code",
   "execution_count": 29,
   "id": "f7c988be-d26a-43f9-b247-c1287bd7ddb2",
   "metadata": {},
   "outputs": [],
   "source": [
    "first_name = \"Weiyu\"\n",
    "last_name = \"Chen\"\n",
    "age = \"24\"\n",
    "height = \"1.80\""
   ]
  },
  {
   "cell_type": "code",
   "execution_count": 20,
   "id": "75099a46-75d9-44c0-b42f-8582b65c2eab",
   "metadata": {},
   "outputs": [
    {
     "name": "stdin",
     "output_type": "stream",
     "text": [
      "what your first name? WEIYU\n",
      "what your last name? CEHN\n",
      "How old are you? 24\n",
      "what your height? 1.8\n"
     ]
    }
   ],
   "source": [
    "user_first_name = input(\"what your first name?\")\n",
    "user_last_name = input(\"what your last name?\")\n",
    "user_age = input(\"How old are you?\")\n",
    "user_height = input(\"what your height?\")"
   ]
  },
  {
   "cell_type": "code",
   "execution_count": 22,
   "id": "e3204e02-4d09-43f3-8425-6f2d0a769639",
   "metadata": {},
   "outputs": [
    {
     "name": "stdout",
     "output_type": "stream",
     "text": [
      "Hello WEIYU CEHN.\n",
      "You are24 and your height is 1.8.\n"
     ]
    }
   ],
   "source": [
    "print(f\"\"\"Hello {user_first_name} {user_last_name}.\n",
    "You are{user_age} and your height is {user_height}.\"\"\")"
   ]
  },
  {
   "cell_type": "code",
   "execution_count": null,
   "id": "ebad4322-6fb0-42ec-ac0b-113b2ee74d7c",
   "metadata": {},
   "outputs": [],
   "source": []
  }
 ],
 "metadata": {
  "kernelspec": {
   "display_name": "Python 3 (ipykernel)",
   "language": "python",
   "name": "python3"
  },
  "language_info": {
   "codemirror_mode": {
    "name": "ipython",
    "version": 3
   },
   "file_extension": ".py",
   "mimetype": "text/x-python",
   "name": "python",
   "nbconvert_exporter": "python",
   "pygments_lexer": "ipython3",
   "version": "3.10.14"
  }
 },
 "nbformat": 4,
 "nbformat_minor": 5
}
