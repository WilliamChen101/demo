{
 "cells": [
  {
   "cell_type": "code",
   "execution_count": 3,
   "id": "cbd39a0e-c574-4dbe-9d80-2465200c0575",
   "metadata": {},
   "outputs": [],
   "source": [
    "first_name = \"William\""
   ]
  },
  {
   "cell_type": "code",
   "execution_count": 5,
   "id": "a7601e88-4e47-484f-a146-1361ca062faf",
   "metadata": {},
   "outputs": [
    {
     "name": "stdout",
     "output_type": "stream",
     "text": [
      "William\n"
     ]
    }
   ],
   "source": [
    "print(first_name)"
   ]
  },
  {
   "cell_type": "code",
   "execution_count": 7,
   "id": "211acdb9-1efe-471e-ad20-5c55c7cba9e9",
   "metadata": {},
   "outputs": [],
   "source": [
    "second_name = \"WeiYu\""
   ]
  },
  {
   "cell_type": "code",
   "execution_count": 9,
   "id": "71b25743-8233-4d4e-9318-318f91602206",
   "metadata": {},
   "outputs": [
    {
     "name": "stdout",
     "output_type": "stream",
     "text": [
      "WeiYu\n"
     ]
    }
   ],
   "source": [
    "print(second_name)"
   ]
  },
  {
   "cell_type": "code",
   "execution_count": 11,
   "id": "30dc81eb-491f-454a-968c-00528e531e92",
   "metadata": {},
   "outputs": [],
   "source": [
    "Third_name = \" \""
   ]
  },
  {
   "cell_type": "code",
   "execution_count": 13,
   "id": "81015fa3-16e3-4099-9223-bae852c42a00",
   "metadata": {},
   "outputs": [
    {
     "name": "stdout",
     "output_type": "stream",
     "text": [
      "William WeiYu\n"
     ]
    }
   ],
   "source": [
    "print(first_name+Third_name+second_name)"
   ]
  },
  {
   "cell_type": "code",
   "execution_count": 19,
   "id": "a9ef95db-53f1-41b0-8c4b-8d387273417d",
   "metadata": {},
   "outputs": [],
   "source": [
    "name1 = \"w\""
   ]
  },
  {
   "cell_type": "code",
   "execution_count": 23,
   "id": "bee80bc0-c4b1-4c3f-bfc0-205382b8c7e9",
   "metadata": {},
   "outputs": [
    {
     "ename": "SyntaxError",
     "evalue": "invalid syntax (3345883011.py, line 1)",
     "output_type": "error",
     "traceback": [
      "\u001b[1;36m  Cell \u001b[1;32mIn[23], line 1\u001b[1;36m\u001b[0m\n\u001b[1;33m    total$ = \"wII\"\u001b[0m\n\u001b[1;37m         ^\u001b[0m\n\u001b[1;31mSyntaxError\u001b[0m\u001b[1;31m:\u001b[0m invalid syntax\n"
     ]
    }
   ],
   "source": [
    "total$ = \"wII\""
   ]
  },
  {
   "cell_type": "code",
   "execution_count": 25,
   "id": "55188fe7-91be-4536-9edf-c0628410f893",
   "metadata": {},
   "outputs": [
    {
     "ename": "SyntaxError",
     "evalue": "cannot assign to expression here. Maybe you meant '==' instead of '='? (2673168301.py, line 1)",
     "output_type": "error",
     "traceback": [
      "\u001b[1;36m  Cell \u001b[1;32mIn[25], line 1\u001b[1;36m\u001b[0m\n\u001b[1;33m    first&last = \"wi\"\u001b[0m\n\u001b[1;37m    ^\u001b[0m\n\u001b[1;31mSyntaxError\u001b[0m\u001b[1;31m:\u001b[0m cannot assign to expression here. Maybe you meant '==' instead of '='?\n"
     ]
    }
   ],
   "source": [
    "first&last = \"wi\""
   ]
  },
  {
   "cell_type": "code",
   "execution_count": 27,
   "id": "69699a4d-93b0-4e89-a3c5-b0a4c40718ad",
   "metadata": {},
   "outputs": [],
   "source": [
    "A_Name = \"willi\""
   ]
  },
  {
   "cell_type": "code",
   "execution_count": 31,
   "id": "5d574b34-9e30-493e-838c-576328437776",
   "metadata": {},
   "outputs": [
    {
     "name": "stderr",
     "output_type": "stream",
     "text": [
      "UsageError: Line magic function `%age` not found.\n"
     ]
    }
   ],
   "source": [
    "%age = \"wn\""
   ]
  },
  {
   "cell_type": "code",
   "execution_count": 33,
   "id": "a2f3c9fc-e809-4417-8654-d8edeae46301",
   "metadata": {},
   "outputs": [],
   "source": [
    "user_address = \"lk\""
   ]
  },
  {
   "cell_type": "code",
   "execution_count": 35,
   "id": "1bd0b45d-d6d8-4b2b-9f7c-c2447a628046",
   "metadata": {},
   "outputs": [],
   "source": [
    "True_value = \"hj\""
   ]
  },
  {
   "cell_type": "code",
   "execution_count": 37,
   "id": "b6cff06a-979e-4f45-a923-60ceacf3f8fc",
   "metadata": {},
   "outputs": [
    {
     "ename": "SyntaxError",
     "evalue": "invalid syntax (4098437185.py, line 1)",
     "output_type": "error",
     "traceback": [
      "\u001b[1;36m  Cell \u001b[1;32mIn[37], line 1\u001b[1;36m\u001b[0m\n\u001b[1;33m    class = \"lkj\"\u001b[0m\n\u001b[1;37m          ^\u001b[0m\n\u001b[1;31mSyntaxError\u001b[0m\u001b[1;31m:\u001b[0m invalid syntax\n"
     ]
    }
   ],
   "source": [
    "class = \"lkj\""
   ]
  },
  {
   "cell_type": "code",
   "execution_count": 42,
   "id": "91e9ba3d-5fa8-4dc8-95c1-b9294192b326",
   "metadata": {},
   "outputs": [
    {
     "data": {
      "text/plain": [
       "str"
      ]
     },
     "execution_count": 42,
     "metadata": {},
     "output_type": "execute_result"
    }
   ],
   "source": [
    "type(first_name)"
   ]
  },
  {
   "cell_type": "code",
   "execution_count": 46,
   "id": "dedf7445-d7e4-4ffe-b78a-36a573583f84",
   "metadata": {},
   "outputs": [],
   "source": [
    "x = 10\n",
    "y = \"10\"\n",
    "z = 10.0\n",
    "a = True"
   ]
  },
  {
   "cell_type": "code",
   "execution_count": 48,
   "id": "723e274f-f75a-4b32-9f61-1b99cdd4f88a",
   "metadata": {},
   "outputs": [
    {
     "name": "stdout",
     "output_type": "stream",
     "text": [
      "<class 'int'>\n",
      "<class 'str'>\n",
      "<class 'float'>\n",
      "<class 'bool'>\n"
     ]
    }
   ],
   "source": [
    "print(type(x))\n",
    "print(type(y))\n",
    "print(type(z))\n",
    "print(type(a))"
   ]
  },
  {
   "cell_type": "code",
   "execution_count": 56,
   "id": "25f90bee-2b4d-4956-b665-3c7f0a8bc632",
   "metadata": {},
   "outputs": [],
   "source": [
    "x = 5"
   ]
  },
  {
   "cell_type": "code",
   "execution_count": 68,
   "id": "7988609d-19b5-4d60-bf9a-e2c0504423e0",
   "metadata": {},
   "outputs": [
    {
     "name": "stdout",
     "output_type": "stream",
     "text": [
      "the value of x is 5\n"
     ]
    }
   ],
   "source": [
    "print(f\"the value of x is {x}\")"
   ]
  },
  {
   "cell_type": "code",
   "execution_count": 62,
   "id": "3a4d224e-ae94-4f47-b58f-efebad5fd2ee",
   "metadata": {},
   "outputs": [],
   "source": [
    "Name = \"william\"\n",
    "Age = 24"
   ]
  },
  {
   "cell_type": "code",
   "execution_count": 66,
   "id": "120eb542-12df-4bb2-80ef-6c90eb2fc718",
   "metadata": {},
   "outputs": [
    {
     "name": "stdout",
     "output_type": "stream",
     "text": [
      "My name is william and I am 24 year old\n"
     ]
    }
   ],
   "source": [
    "print(f\"My name is {Name} and I am {Age} year old\")"
   ]
  },
  {
   "cell_type": "code",
   "execution_count": 70,
   "id": "22dbeef3-5e77-4234-b94c-d6235d982197",
   "metadata": {},
   "outputs": [
    {
     "data": {
      "text/plain": [
       "3.33333"
      ]
     },
     "execution_count": 70,
     "metadata": {},
     "output_type": "execute_result"
    }
   ],
   "source": [
    "round(10 / 3,5)"
   ]
  },
  {
   "cell_type": "code",
   "execution_count": 72,
   "id": "bf84a586-aa8f-48d3-bba3-98c8ce871bc2",
   "metadata": {},
   "outputs": [
    {
     "data": {
      "text/plain": [
       "0.00044"
      ]
     },
     "execution_count": 72,
     "metadata": {},
     "output_type": "execute_result"
    }
   ],
   "source": [
    "4.4 / 10**4"
   ]
  },
  {
   "cell_type": "code",
   "execution_count": 74,
   "id": "953479ac-20a3-4612-8859-0d3767af3c96",
   "metadata": {},
   "outputs": [
    {
     "data": {
      "text/plain": [
       "0.00044"
      ]
     },
     "execution_count": 74,
     "metadata": {},
     "output_type": "execute_result"
    }
   ],
   "source": [
    "4.4e-4"
   ]
  },
  {
   "cell_type": "code",
   "execution_count": 76,
   "id": "9bec7f9b-296d-4b57-8622-0b5cc964f489",
   "metadata": {},
   "outputs": [
    {
     "data": {
      "text/plain": [
       "0"
      ]
     },
     "execution_count": 76,
     "metadata": {},
     "output_type": "execute_result"
    }
   ],
   "source": [
    "0 * -10"
   ]
  },
  {
   "cell_type": "code",
   "execution_count": 78,
   "id": "d9cb1bb3-44f5-4355-8ca2-c6d4844e6f33",
   "metadata": {},
   "outputs": [
    {
     "data": {
      "text/plain": [
       "10"
      ]
     },
     "execution_count": 78,
     "metadata": {},
     "output_type": "execute_result"
    }
   ],
   "source": [
    "4 + 3 * 2"
   ]
  },
  {
   "cell_type": "code",
   "execution_count": 130,
   "id": "5e965c7c-7c60-4441-8152-df20d2ff3f7d",
   "metadata": {},
   "outputs": [],
   "source": [
    "x , y = 10 , 20.5"
   ]
  },
  {
   "cell_type": "code",
   "execution_count": 84,
   "id": "d52264fb-8465-4fa7-bae2-bc9f0b1550c8",
   "metadata": {},
   "outputs": [
    {
     "name": "stdout",
     "output_type": "stream",
     "text": [
      "30.5\n",
      "-10.5\n",
      "205.0\n",
      "0.4878048780487805\n"
     ]
    }
   ],
   "source": [
    "print(x + y)\n",
    "print(x - y)\n",
    "print(x * y)\n",
    "print(x / y)"
   ]
  },
  {
   "cell_type": "code",
   "execution_count": 132,
   "id": "041a024d-5250-4f7f-b3d5-61dcf0b23e8e",
   "metadata": {},
   "outputs": [],
   "source": [
    "x += 5\n",
    "y = y - 10"
   ]
  },
  {
   "cell_type": "code",
   "execution_count": 134,
   "id": "f176f9a2-b209-4c10-acdd-5a01abb0ffdf",
   "metadata": {},
   "outputs": [
    {
     "name": "stdout",
     "output_type": "stream",
     "text": [
      "15 10.5\n"
     ]
    }
   ],
   "source": [
    "print(x,y)"
   ]
  },
  {
   "cell_type": "code",
   "execution_count": 92,
   "id": "f8f25667-2a34-4f84-9481-a7c61c56418c",
   "metadata": {},
   "outputs": [
    {
     "name": "stdout",
     "output_type": "stream",
     "text": [
      "10\n"
     ]
    }
   ],
   "source": [
    "print(round(y))"
   ]
  },
  {
   "cell_type": "code",
   "execution_count": 114,
   "id": "6dfdf56f-dc84-47b0-b6ce-8c7c6d0ddbf0",
   "metadata": {},
   "outputs": [
    {
     "name": "stdout",
     "output_type": "stream",
     "text": [
      "63.75\n"
     ]
    }
   ],
   "source": [
    "print(x * y / 2 - x)"
   ]
  },
  {
   "cell_type": "code",
   "execution_count": 144,
   "id": "9fe52e7f-986b-471b-80b2-59410f514f5b",
   "metadata": {},
   "outputs": [
    {
     "name": "stdout",
     "output_type": "stream",
     "text": [
      "Help on built-in function pow in module math:\n",
      "\n",
      "pow(x, y, /)\n",
      "    Return x**y (x to the power of y).\n",
      "\n"
     ]
    }
   ],
   "source": [
    "help(math.pow)"
   ]
  },
  {
   "cell_type": "code",
   "execution_count": 146,
   "id": "4334a66f-36e5-4b1c-a507-2d6dc425babd",
   "metadata": {},
   "outputs": [],
   "source": [
    "import math"
   ]
  },
  {
   "cell_type": "code",
   "execution_count": 148,
   "id": "5b48c62f-b20a-49ea-bbf3-ac85ff332ccc",
   "metadata": {},
   "outputs": [
    {
     "data": {
      "text/plain": [
       "['__doc__',\n",
       " '__loader__',\n",
       " '__name__',\n",
       " '__package__',\n",
       " '__spec__',\n",
       " 'acos',\n",
       " 'acosh',\n",
       " 'asin',\n",
       " 'asinh',\n",
       " 'atan',\n",
       " 'atan2',\n",
       " 'atanh',\n",
       " 'cbrt',\n",
       " 'ceil',\n",
       " 'comb',\n",
       " 'copysign',\n",
       " 'cos',\n",
       " 'cosh',\n",
       " 'degrees',\n",
       " 'dist',\n",
       " 'e',\n",
       " 'erf',\n",
       " 'erfc',\n",
       " 'exp',\n",
       " 'exp2',\n",
       " 'expm1',\n",
       " 'fabs',\n",
       " 'factorial',\n",
       " 'floor',\n",
       " 'fmod',\n",
       " 'frexp',\n",
       " 'fsum',\n",
       " 'gamma',\n",
       " 'gcd',\n",
       " 'hypot',\n",
       " 'inf',\n",
       " 'isclose',\n",
       " 'isfinite',\n",
       " 'isinf',\n",
       " 'isnan',\n",
       " 'isqrt',\n",
       " 'lcm',\n",
       " 'ldexp',\n",
       " 'lgamma',\n",
       " 'log',\n",
       " 'log10',\n",
       " 'log1p',\n",
       " 'log2',\n",
       " 'modf',\n",
       " 'nan',\n",
       " 'nextafter',\n",
       " 'perm',\n",
       " 'pi',\n",
       " 'pow',\n",
       " 'prod',\n",
       " 'radians',\n",
       " 'remainder',\n",
       " 'sin',\n",
       " 'sinh',\n",
       " 'sqrt',\n",
       " 'sumprod',\n",
       " 'tan',\n",
       " 'tanh',\n",
       " 'tau',\n",
       " 'trunc',\n",
       " 'ulp']"
      ]
     },
     "execution_count": 148,
     "metadata": {},
     "output_type": "execute_result"
    }
   ],
   "source": [
    "dir(math)"
   ]
  },
  {
   "cell_type": "code",
   "execution_count": 150,
   "id": "3b471a9f-5e1b-40c3-b1a8-ed2d6d214576",
   "metadata": {},
   "outputs": [
    {
     "name": "stdout",
     "output_type": "stream",
     "text": [
      "Help on built-in function floor in module math:\n",
      "\n",
      "floor(x, /)\n",
      "    Return the floor of x as an Integral.\n",
      "\n",
      "    This is the largest integer <= x.\n",
      "\n"
     ]
    }
   ],
   "source": [
    "help (math.floor)"
   ]
  },
  {
   "cell_type": "code",
   "execution_count": 162,
   "id": "0c1bd2a9-ca0e-4d54-9023-4cea872b2ba5",
   "metadata": {},
   "outputs": [],
   "source": [
    "import random"
   ]
  },
  {
   "cell_type": "code",
   "execution_count": 164,
   "id": "5e172e4c-c8b0-44f2-878f-cb1d841949ac",
   "metadata": {},
   "outputs": [
    {
     "data": {
      "text/plain": [
       "4.161019760385558"
      ]
     },
     "execution_count": 164,
     "metadata": {},
     "output_type": "execute_result"
    }
   ],
   "source": [
    "random.uniform(1,10)"
   ]
  },
  {
   "cell_type": "code",
   "execution_count": 166,
   "id": "14544fec-f487-48e1-82ac-640abd593811",
   "metadata": {},
   "outputs": [
    {
     "data": {
      "text/plain": [
       "6"
      ]
     },
     "execution_count": 166,
     "metadata": {},
     "output_type": "execute_result"
    }
   ],
   "source": [
    "int(random.uniform(1,10))"
   ]
  },
  {
   "cell_type": "code",
   "execution_count": 186,
   "id": "6daae470-bba6-4bfd-8eac-642e6aade714",
   "metadata": {},
   "outputs": [
    {
     "data": {
      "text/plain": [
       "'This is \"text\" wich a double quotes '"
      ]
     },
     "execution_count": 186,
     "metadata": {},
     "output_type": "execute_result"
    }
   ],
   "source": [
    "my_string = \"This is \\\"text\\\" wich a double quotes \"\n",
    "my_string"
   ]
  },
  {
   "cell_type": "code",
   "execution_count": 190,
   "id": "3242ceaf-e54d-471b-b272-6338f4f02d5d",
   "metadata": {},
   "outputs": [
    {
     "data": {
      "text/plain": [
       "'This is \\\\text\\\\ wich a double backslash '"
      ]
     },
     "execution_count": 190,
     "metadata": {},
     "output_type": "execute_result"
    }
   ],
   "source": [
    "my_string = \"This is \\\\text\\\\ wich a double backslash \"\n",
    "my_string"
   ]
  },
  {
   "cell_type": "code",
   "execution_count": 208,
   "id": "1cafd39b-738f-492c-89ed-e1e69260147f",
   "metadata": {},
   "outputs": [
    {
     "name": "stdout",
     "output_type": "stream",
     "text": [
      "This is \ttext\t wich a tab \n"
     ]
    }
   ],
   "source": [
    "my_string = \"This is \\ttext\\t wich a tab \"\n",
    "print(my_string)"
   ]
  },
  {
   "cell_type": "code",
   "execution_count": 210,
   "id": "9eb140df-6123-41d6-a9ac-361c07493d20",
   "metadata": {},
   "outputs": [
    {
     "name": "stdout",
     "output_type": "stream",
     "text": [
      "Hello World\n"
     ]
    }
   ],
   "source": [
    "str1 = \"Hello\"\n",
    "str2 = \"World\"\n",
    "print(str1 + \" \" + str2)"
   ]
  },
  {
   "cell_type": "code",
   "execution_count": 212,
   "id": "90146b3a-2dc0-446a-8bd4-92c5e993a4bc",
   "metadata": {},
   "outputs": [
    {
     "data": {
      "text/plain": [
       "15"
      ]
     },
     "execution_count": 212,
     "metadata": {},
     "output_type": "execute_result"
    }
   ],
   "source": [
    "len(str1*3)"
   ]
  },
  {
   "cell_type": "code",
   "execution_count": 214,
   "id": "06bcacfe-5c79-4fb0-ae44-bce445a2c87f",
   "metadata": {},
   "outputs": [
    {
     "data": {
      "text/plain": [
       "5"
      ]
     },
     "execution_count": 214,
     "metadata": {},
     "output_type": "execute_result"
    }
   ],
   "source": [
    "len(str1)"
   ]
  },
  {
   "cell_type": "code",
   "execution_count": 240,
   "id": "8f5e7677-c862-46d4-b082-a2acf337ac25",
   "metadata": {},
   "outputs": [
    {
     "name": "stdout",
     "output_type": "stream",
     "text": [
      "Hello William\n"
     ]
    }
   ],
   "source": [
    "user_name = \"William\"\n",
    "\n",
    "print(f\"Hello {user_name}\")"
   ]
  },
  {
   "cell_type": "code",
   "execution_count": 248,
   "id": "4f347038-bd93-430a-a3ed-1565004c6f42",
   "metadata": {},
   "outputs": [
    {
     "name": "stdin",
     "output_type": "stream",
     "text": [
      "What your name? mike\n"
     ]
    },
    {
     "name": "stdout",
     "output_type": "stream",
     "text": [
      "Hello mike\n"
     ]
    }
   ],
   "source": [
    "user_name = input(\"What your name?\")\n",
    "\n",
    "print(f\"Hello {user_name}\")"
   ]
  },
  {
   "cell_type": "code",
   "execution_count": 250,
   "id": "85c9a64e-9c9a-4978-8599-790b0d80ebd3",
   "metadata": {},
   "outputs": [],
   "source": [
    "name, name2 = \"William\" , \"Chen\""
   ]
  },
  {
   "cell_type": "code",
   "execution_count": 252,
   "id": "72c77829-3a41-4ea2-a8fb-8048d225fd62",
   "metadata": {},
   "outputs": [
    {
     "data": {
      "text/plain": [
       "'william'"
      ]
     },
     "execution_count": 252,
     "metadata": {},
     "output_type": "execute_result"
    }
   ],
   "source": [
    "name.lower()"
   ]
  },
  {
   "cell_type": "code",
   "execution_count": 254,
   "id": "7b66c355-9e24-41b9-9b48-c64c8f6dd293",
   "metadata": {},
   "outputs": [
    {
     "data": {
      "text/plain": [
       "'WILLIAM'"
      ]
     },
     "execution_count": 254,
     "metadata": {},
     "output_type": "execute_result"
    }
   ],
   "source": [
    "name.upper()"
   ]
  },
  {
   "cell_type": "code",
   "execution_count": 258,
   "id": "e2380864-e0e1-4101-98d3-cab61fa63f4d",
   "metadata": {},
   "outputs": [
    {
     "name": "stdout",
     "output_type": "stream",
     "text": [
      "Hello world\n"
     ]
    }
   ],
   "source": [
    "Welcome = \"Hello world\"\n",
    "print(Welcome)"
   ]
  },
  {
   "cell_type": "code",
   "execution_count": 260,
   "id": "84a84b44-8b8e-4e9a-a549-b6b4948ed0cf",
   "metadata": {},
   "outputs": [
    {
     "name": "stdout",
     "output_type": "stream",
     "text": [
      "Hello Everyone\n"
     ]
    }
   ],
   "source": [
    "print(Welcome.replace(\"world\",\"Everyone\"))"
   ]
  },
  {
   "cell_type": "code",
   "execution_count": 262,
   "id": "5234b157-647c-4a8d-a85b-9405bdb32395",
   "metadata": {},
   "outputs": [
    {
     "name": "stdout",
     "output_type": "stream",
     "text": [
      "2\n"
     ]
    }
   ],
   "source": [
    "print(Welcome.count(\"o\"))"
   ]
  },
  {
   "cell_type": "code",
   "execution_count": 266,
   "id": "96e79429-f9c5-4410-9a5b-66fcd91e521a",
   "metadata": {},
   "outputs": [
    {
     "name": "stdout",
     "output_type": "stream",
     "text": [
      "True\n"
     ]
    }
   ],
   "source": [
    "Welcome = \"Helloworld\"\n",
    "print(Welcome.isalpha())"
   ]
  },
  {
   "cell_type": "code",
   "execution_count": 268,
   "id": "213c79e7-0633-4d46-aed3-3ea2d0fab088",
   "metadata": {},
   "outputs": [],
   "source": [
    "isgood = True"
   ]
  },
  {
   "cell_type": "code",
   "execution_count": 270,
   "id": "bf3cc920-7082-4f86-98a0-ce235fdc14d3",
   "metadata": {},
   "outputs": [
    {
     "data": {
      "text/plain": [
       "2"
      ]
     },
     "execution_count": 270,
     "metadata": {},
     "output_type": "execute_result"
    }
   ],
   "source": [
    "isgood + isgood"
   ]
  },
  {
   "cell_type": "code",
   "execution_count": 272,
   "id": "a6555e52-eb54-4386-9313-13e1e263509a",
   "metadata": {},
   "outputs": [],
   "source": [
    "isgood = False"
   ]
  },
  {
   "cell_type": "code",
   "execution_count": 274,
   "id": "406f7f98-166a-4aab-a14d-d2832591046b",
   "metadata": {},
   "outputs": [
    {
     "data": {
      "text/plain": [
       "0"
      ]
     },
     "execution_count": 274,
     "metadata": {},
     "output_type": "execute_result"
    }
   ],
   "source": [
    "isgood + isgood"
   ]
  },
  {
   "cell_type": "code",
   "execution_count": null,
   "id": "af203658-449b-42e2-a69e-a771d9ed49f5",
   "metadata": {},
   "outputs": [],
   "source": [
    "print(None)"
   ]
  },
  {
   "cell_type": "code",
   "execution_count": 278,
   "id": "e06ee560-7519-45c1-a280-dd1dbba51ff5",
   "metadata": {},
   "outputs": [],
   "source": [
    "mytextnumber = 30\n",
    "myfirstnumber = \"30\""
   ]
  },
  {
   "cell_type": "code",
   "execution_count": 280,
   "id": "c5d67ea2-72c5-4770-a77b-f3d4366b8313",
   "metadata": {},
   "outputs": [
    {
     "data": {
      "text/plain": [
       "60"
      ]
     },
     "execution_count": 280,
     "metadata": {},
     "output_type": "execute_result"
    }
   ],
   "source": [
    "mytextnumber + int(myfirstnumber)"
   ]
  },
  {
   "cell_type": "code",
   "execution_count": 282,
   "id": "846d43db-ae7a-46d5-a7f5-fb43adb467a8",
   "metadata": {},
   "outputs": [],
   "source": [
    "mynumber = \"16.69\""
   ]
  },
  {
   "cell_type": "code",
   "execution_count": 290,
   "id": "606b189c-fcde-46eb-8701-ad2817675de3",
   "metadata": {},
   "outputs": [
    {
     "data": {
      "text/plain": [
       "21.69"
      ]
     },
     "execution_count": 290,
     "metadata": {},
     "output_type": "execute_result"
    }
   ],
   "source": [
    "float(mynumber) + 5"
   ]
  },
  {
   "cell_type": "code",
   "execution_count": 294,
   "id": "96bd9f55-1dba-4aef-9cff-7df7a0a00c49",
   "metadata": {},
   "outputs": [
    {
     "name": "stdout",
     "output_type": "stream",
     "text": [
      "1 October,2000 \n"
     ]
    }
   ],
   "source": [
    "birth_date = \"1 October,2000 \"\n",
    "print(birth_date)"
   ]
  },
  {
   "cell_type": "code",
   "execution_count": 298,
   "id": "4c1c88f4-3d83-48cd-b202-587c20355c6f",
   "metadata": {},
   "outputs": [
    {
     "ename": "SyntaxError",
     "evalue": "unterminated string literal (detected at line 1) (2531801297.py, line 1)",
     "output_type": "error",
     "traceback": [
      "\u001b[1;36m  Cell \u001b[1;32mIn[298], line 1\u001b[1;36m\u001b[0m\n\u001b[1;33m    print(\"Hello!\", \"how are you?\", \"I love programming\", sep=\"\\\")\u001b[0m\n\u001b[1;37m                                                              ^\u001b[0m\n\u001b[1;31mSyntaxError\u001b[0m\u001b[1;31m:\u001b[0m unterminated string literal (detected at line 1)\n"
     ]
    }
   ],
   "source": [
    "print(\"Hello!\", \"how are you?\", \"I love programming\", sep=\"\\\" "
   ]
  },
  {
   "cell_type": "code",
   "execution_count": null,
   "id": "d121171e-1176-4ad6-870f-16200e095ed4",
   "metadata": {},
   "outputs": [],
   "source": []
  }
 ],
 "metadata": {
  "kernelspec": {
   "display_name": "Python 3 (ipykernel)",
   "language": "python",
   "name": "python3"
  },
  "language_info": {
   "codemirror_mode": {
    "name": "ipython",
    "version": 3
   },
   "file_extension": ".py",
   "mimetype": "text/x-python",
   "name": "python",
   "nbconvert_exporter": "python",
   "pygments_lexer": "ipython3",
   "version": "3.12.4"
  }
 },
 "nbformat": 4,
 "nbformat_minor": 5
}
